{
 "cells": [
  {
   "cell_type": "markdown",
   "metadata": {},
   "source": [
    "Advanced Chart Customization"
   ]
  },
  {
   "cell_type": "code",
   "execution_count": 10,
   "metadata": {},
   "outputs": [
    {
     "data": {
      "text/html": [
       "<div>\n",
       "<style scoped>\n",
       "    .dataframe tbody tr th:only-of-type {\n",
       "        vertical-align: middle;\n",
       "    }\n",
       "\n",
       "    .dataframe tbody tr th {\n",
       "        vertical-align: top;\n",
       "    }\n",
       "\n",
       "    .dataframe thead th {\n",
       "        text-align: right;\n",
       "    }\n",
       "</style>\n",
       "<table border=\"1\" class=\"dataframe\">\n",
       "  <thead>\n",
       "    <tr style=\"text-align: right;\">\n",
       "      <th></th>\n",
       "      <th>job_title_short</th>\n",
       "      <th>job_title</th>\n",
       "      <th>job_location</th>\n",
       "      <th>job_via</th>\n",
       "      <th>job_schedule_type</th>\n",
       "      <th>job_work_from_home</th>\n",
       "      <th>search_location</th>\n",
       "      <th>job_posted_date</th>\n",
       "      <th>job_no_degree_mention</th>\n",
       "      <th>job_health_insurance</th>\n",
       "      <th>job_country</th>\n",
       "      <th>salary_rate</th>\n",
       "      <th>salary_year_avg</th>\n",
       "      <th>salary_hour_avg</th>\n",
       "      <th>company_name</th>\n",
       "      <th>job_skills</th>\n",
       "      <th>job_type_skills</th>\n",
       "    </tr>\n",
       "  </thead>\n",
       "  <tbody>\n",
       "  </tbody>\n",
       "</table>\n",
       "</div>"
      ],
      "text/plain": [
       "Empty DataFrame\n",
       "Columns: [job_title_short, job_title, job_location, job_via, job_schedule_type, job_work_from_home, search_location, job_posted_date, job_no_degree_mention, job_health_insurance, job_country, salary_rate, salary_year_avg, salary_hour_avg, company_name, job_skills, job_type_skills]\n",
       "Index: []"
      ]
     },
     "execution_count": 10,
     "metadata": {},
     "output_type": "execute_result"
    }
   ],
   "source": [
    "# importing libraries\n",
    "import ast\n",
    "import pandas as pd\n",
    "from datasets import load_dataset\n",
    "import matplotlib.pyplot as plt\n",
    "\n",
    "# loading datasets\n",
    "dataset = load_dataset('lukebarousse/data_jobs')\n",
    "df = dataset['train'].to_pandas()\n",
    "\n",
    "# cleaning dataset\n",
    "df['job_posted_date'] = pd.to_datetime(df['job_posted_date'])\n",
    "df['job_skills'] = (df['job_skills']\n",
    "                    .apply(lambda x: ast.literal_eval(x) \n",
    "                           if pd.notna(x) else x))\n",
    "\n",
    "#filter for Data Analyst Data\n",
    "df_DS = df[df['job_title_short'] == 'Data Science'].copy()\n",
    "\n",
    "df_DS"
   ]
  },
  {
   "cell_type": "code",
   "execution_count": 9,
   "metadata": {},
   "outputs": [
    {
     "data": {
      "text/html": [
       "<div>\n",
       "<style scoped>\n",
       "    .dataframe tbody tr th:only-of-type {\n",
       "        vertical-align: middle;\n",
       "    }\n",
       "\n",
       "    .dataframe tbody tr th {\n",
       "        vertical-align: top;\n",
       "    }\n",
       "\n",
       "    .dataframe thead th {\n",
       "        text-align: right;\n",
       "    }\n",
       "</style>\n",
       "<table border=\"1\" class=\"dataframe\">\n",
       "  <thead>\n",
       "    <tr style=\"text-align: right;\">\n",
       "      <th>job_skills</th>\n",
       "    </tr>\n",
       "    <tr>\n",
       "      <th>job_posted_month_num</th>\n",
       "    </tr>\n",
       "  </thead>\n",
       "  <tbody>\n",
       "  </tbody>\n",
       "</table>\n",
       "</div>"
      ],
      "text/plain": [
       "Empty DataFrame\n",
       "Columns: []\n",
       "Index: []"
      ]
     },
     "execution_count": 9,
     "metadata": {},
     "output_type": "execute_result"
    }
   ],
   "source": [
    "df_DS['job_posted_month_num'] = df_DS['job_posted_date'].dt.month\n",
    "\n",
    "df_DS_explode = df_DS.explode('job_skills')\n",
    "\n",
    "df_DS_pivot = df_DS_explode.pivot_table(index = 'job_posted_month_num', columns= 'job_skills', aggfunc = 'size', fill_value = 0)\n",
    "\n",
    "df_DS_pivot\n"
   ]
  },
  {
   "cell_type": "code",
   "execution_count": null,
   "metadata": {},
   "outputs": [],
   "source": [
    "df_DS_pivot.loc['Total'] = df_DS_pivot.sum()\n",
    "\n",
    "# df_DS_pivot[df_DS_pivot.loc['Total'].sort_values(ascending=False).head().index]\n",
    "\n",
    "df_DS_pivot = (df_DS_pivot[df_DS_pivot.loc['Total']\n",
    "                           .sort_values(ascending=False)\n",
    "                           .head().index])\n",
    "\n",
    "df_DS_pivot = df_DS_pivot.drop('Total')\n",
    "\n",
    "df_DS_pivot = df_DS_pivot.reset_index()\n",
    "\n",
    "df_DS_pivot['job_posted_month'] = (df_DS_pivot['job_posted_month_num']\n",
    "                                   .apply(lambda x: \n",
    "                                          pd.to_datetime(x, format ='%m')\n",
    "                                          .strftime('%b')))\n",
    "\n",
    "df_DS_pivot = df_DS_pivot.set_index('job_posted_month')\n",
    "\n",
    "df_DS_pivot = df_DS_pivot.drop(columns='job_posted_month_num')\n",
    "\n",
    "df_DS_pivot.plot(kind='line')\n",
    "\n",
    "plt.title('Top 5 Skills for Data Scientists Monthly')\n",
    "plt.ylabel('Count')\n",
    "plt.xlabel('Month')\n",
    "plt.show()"
   ]
  }
 ],
 "metadata": {
  "kernelspec": {
   "display_name": "python_project",
   "language": "python",
   "name": "python3"
  },
  "language_info": {
   "codemirror_mode": {
    "name": "ipython",
    "version": 3
   },
   "file_extension": ".py",
   "mimetype": "text/x-python",
   "name": "python",
   "nbconvert_exporter": "python",
   "pygments_lexer": "ipython3",
   "version": "3.11.11"
  }
 },
 "nbformat": 4,
 "nbformat_minor": 2
}
