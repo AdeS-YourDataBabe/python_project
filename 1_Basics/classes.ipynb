{
  "nbformat": 4,
  "nbformat_minor": 0,
  "metadata": {
    "colab": {
      "provenance": []
    },
    "kernelspec": {
      "name": "python3",
      "display_name": "Python 3"
    },
    "language_info": {
      "name": "python"
    }
  },
  "cells": [
    {
      "cell_type": "markdown",
      "source": [
        "classes"
      ],
      "metadata": {
        "id": "uAb7Qdeh8Hj_"
      }
    },
    {
      "cell_type": "code",
      "execution_count": null,
      "metadata": {
        "id": "tjX8tMZP73xn"
      },
      "outputs": [],
      "source": [
        "class BaseSalary:\n",
        "  def __init__(self, base_salary, bonus_rate = 0.2, symbol = '$'):\n",
        "    self.base_salary = base_salary\n",
        "    self.bonus_rate = bonus_rate\n",
        "    self.symbol = symbol\n",
        "    self.total_salary = base_salary * (1 + bonus_rate)\n",
        "    self.calculated_interest = self.total_salary - self.base_salary\n",
        "\n",
        "  def __repr__(self):\n",
        "    return f'{self.symbol}{self.base_salary:,}'\n",
        "\n",
        "  def calculate_salary(self):\n",
        "    return f'{self.symbol}{self.total_salary:,}'\n",
        "\n",
        "  def interest(self):\n",
        "    return f'{self.symbol}{self.calculated_interest:,}'"
      ]
    },
    {
      "cell_type": "code",
      "source": [
        "salary = BaseSalary(1000000)\n",
        "\n",
        "salary.base_salary #called like this because base_salary is an attribute"
      ],
      "metadata": {
        "colab": {
          "base_uri": "https://localhost:8080/"
        },
        "id": "y8cxjoic8diD",
        "outputId": "6780fb84-c2bd-43ac-9f04-42b76677c8af"
      },
      "execution_count": null,
      "outputs": [
        {
          "output_type": "execute_result",
          "data": {
            "text/plain": [
              "1000000"
            ]
          },
          "metadata": {},
          "execution_count": 24
        }
      ]
    },
    {
      "cell_type": "markdown",
      "source": [
        "to format the output"
      ],
      "metadata": {
        "id": "8-wJ4C6y-xHH"
      }
    },
    {
      "cell_type": "code",
      "source": [
        "print(salary)"
      ],
      "metadata": {
        "colab": {
          "base_uri": "https://localhost:8080/"
        },
        "id": "IEJxEEnP-0a_",
        "outputId": "bf528c75-0875-4596-bd02-654f76780cdb"
      },
      "execution_count": null,
      "outputs": [
        {
          "output_type": "stream",
          "name": "stdout",
          "text": [
            "$1,000,000\n"
          ]
        }
      ]
    },
    {
      "cell_type": "code",
      "source": [
        "salary.interest()"
      ],
      "metadata": {
        "colab": {
          "base_uri": "https://localhost:8080/",
          "height": 35
        },
        "id": "j34Q_wX9AMIT",
        "outputId": "5b401309-40dd-4535-8b26-4bf9d5cfbf5a"
      },
      "execution_count": null,
      "outputs": [
        {
          "output_type": "execute_result",
          "data": {
            "text/plain": [
              "'$200,000.0'"
            ],
            "application/vnd.google.colaboratory.intrinsic+json": {
              "type": "string"
            }
          },
          "metadata": {},
          "execution_count": 26
        }
      ]
    }
  ]
}