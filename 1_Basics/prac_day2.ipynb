{
  "nbformat": 4,
  "nbformat_minor": 0,
  "metadata": {
    "colab": {
      "provenance": []
    },
    "kernelspec": {
      "name": "python3",
      "display_name": "Python 3"
    },
    "language_info": {
      "name": "python"
    }
  },
  "cells": [
    {
      "cell_type": "code",
      "execution_count": null,
      "metadata": {
        "colab": {
          "base_uri": "https://localhost:8080/"
        },
        "id": "d6oWkOW29eJv",
        "outputId": "b559bb05-c69a-4e4a-cbe7-7c94f4adeeb3"
      },
      "outputs": [
        {
          "output_type": "execute_result",
          "data": {
            "text/plain": [
              "3"
            ]
          },
          "metadata": {},
          "execution_count": 1
        }
      ],
      "source": [
        "import math\n",
        "\n",
        "math.ceil(5 / 2)"
      ]
    },
    {
      "cell_type": "code",
      "source": [
        "min_salary = 20_000\n",
        "max_salary = 50_000\n",
        "average_salary = (min_salary + max_salary) / 2\n",
        "math.ceil(average_salary)"
      ],
      "metadata": {
        "colab": {
          "base_uri": "https://localhost:8080/"
        },
        "id": "vTF_4bJvPE7X",
        "outputId": "c7fdb7bf-df5d-4567-ebb5-d82e9a73d455"
      },
      "execution_count": null,
      "outputs": [
        {
          "output_type": "execute_result",
          "data": {
            "text/plain": [
              "35000"
            ]
          },
          "metadata": {},
          "execution_count": 2
        }
      ]
    },
    {
      "cell_type": "code",
      "source": [
        "if False:\n",
        "  print('Hi love')"
      ],
      "metadata": {
        "id": "hSbEJwIVRg1w"
      },
      "execution_count": null,
      "outputs": []
    },
    {
      "cell_type": "code",
      "source": [
        "job_skill = 'SQL'\n",
        "applicant_skill = 'Python'\n",
        "\n",
        "if job_skill == applicant_skill:\n",
        "  print('You are qualified')\n",
        "else:\n",
        "  print('You are not qualified!')"
      ],
      "metadata": {
        "colab": {
          "base_uri": "https://localhost:8080/"
        },
        "id": "VgKawQ3fVwGi",
        "outputId": "55f7277b-e663-4fe6-8b64-f78eff5ab6f8"
      },
      "execution_count": null,
      "outputs": [
        {
          "output_type": "stream",
          "name": "stdout",
          "text": [
            "You are not qualified!\n"
          ]
        }
      ]
    },
    {
      "cell_type": "code",
      "source": [
        "job_skill = 'SQL'\n",
        "applicant_skill = 'Python'\n",
        "years_of_experience = 2\n",
        "\n",
        "\n",
        "if job_skill == applicant_skill:\n",
        "  print('You are qualified')\n",
        "elif years_of_experience >= 3:\n",
        "  print('Enough experience but no SQL!')\n",
        "else:\n",
        "  print('We acknowledge you, try again some other time :)')\n"
      ],
      "metadata": {
        "colab": {
          "base_uri": "https://localhost:8080/"
        },
        "id": "TYJPnuL5W3DI",
        "outputId": "e74601f1-906f-46ab-8536-2aded6dab97e"
      },
      "execution_count": null,
      "outputs": [
        {
          "output_type": "stream",
          "name": "stdout",
          "text": [
            "We acknowledge you, try again some other time :)\n"
          ]
        }
      ]
    },
    {
      "cell_type": "code",
      "source": [
        "name = 'Ademiju'\n",
        "expertise = 'beginner'\n",
        "\n",
        "print(f'Hi {name}, you are a {expertise} in python!')\n",
        "print(f'{name}, enjoy! :)')"
      ],
      "metadata": {
        "colab": {
          "base_uri": "https://localhost:8080/"
        },
        "id": "rsUXN3vsYyp7",
        "outputId": "87bab091-793d-44d9-ec4f-997ee8509a09"
      },
      "execution_count": null,
      "outputs": [
        {
          "output_type": "stream",
          "name": "stdout",
          "text": [
            "Hi Ademiju, you are a beginner in python!\n",
            "Ademiju, enjoy! :)\n"
          ]
        }
      ]
    },
    {
      "cell_type": "code",
      "source": [
        "first_name = 'Ademiju'\n",
        "expertise = 'beginner'\n",
        "\n",
        "if name == first_name and expertise == expertise:\n",
        "  print('welcome!')"
      ],
      "metadata": {
        "colab": {
          "base_uri": "https://localhost:8080/"
        },
        "id": "1ENy8vvdvOeE",
        "outputId": "0984ebe3-9070-4758-a911-218b9bae68dc"
      },
      "execution_count": null,
      "outputs": [
        {
          "output_type": "stream",
          "name": "stdout",
          "text": [
            "welcome!\n"
          ]
        }
      ]
    },
    {
      "cell_type": "code",
      "source": [
        "job_roles = [\n",
        "    {'role': 'Data Analyst', 'skills': ['Python', 'SQL', 'Excel']},\n",
        "    {'role': 'Data Scientist', 'skills': ['Python', 'R', 'Machine Learning', 'Deep Learning']},\n",
        "    {'role': 'Machine Learning Engineer', 'skills': ['Python', 'TensorFlow', 'PyTorch', 'Scikit-Learn']},\n",
        "    {'role': 'Data Engineer', 'skills': ['Python', 'Apache Spark', 'Hadoop', 'SQL']},\n",
        "    {'role': 'Business Intelligence Analyst', 'skills': ['Python', 'SQL', 'Tableau', 'Power BI', 'Excel']},\n",
        "    {'role': 'Quantitative Analyst', 'skills': ['R', 'Python', 'MATLAB', 'Statistics']},\n",
        "    {'role': 'Operations Analyst', 'skills': ['Python', 'SQL', 'Data Visualization', 'Process Improvement']},\n",
        "    {'role': 'Database Administrator', 'skills': ['SQL', 'Oracle', 'MySQL', 'Database Management']},\n",
        "    {'role': 'AI Engineer', 'skills': ['Python', 'TensorFlow', 'PyTorch', 'Computer Vision']},\n",
        "    {'role': 'Statistician', 'skills': ['R', 'SAS', 'Python', 'Statistical Modeling']}\n",
        "]\n",
        "\n",
        "my_skills = ['Python', 'SQL', 'Excel']\n",
        "print(my_skills)"
      ],
      "metadata": {
        "id": "5TQ8wtqGxdoL",
        "colab": {
          "base_uri": "https://localhost:8080/"
        },
        "outputId": "a12ec77b-0aea-4f77-f25d-efbbc3e39bc5"
      },
      "execution_count": null,
      "outputs": [
        {
          "output_type": "stream",
          "name": "stdout",
          "text": [
            "['Python', 'SQL', 'Excel']\n"
          ]
        }
      ]
    },
    {
      "cell_type": "markdown",
      "source": [
        "###### thought processes ----\n",
        "\n",
        "######loop through the job_roles <br>\n",
        "######Verify if all my_skills are inside each job_roles['skills'] <br>\n",
        "######if true ( or qualified), add to qualified list of jobs.\n"
      ],
      "metadata": {
        "id": "e7g6n8BuTDQT"
      }
    },
    {
      "cell_type": "code",
      "source": [
        "for jobs in job_roles:\n",
        "  qualified = True\n",
        "\n",
        "  for skills in my_skills:\n",
        "    if skills not in jobs['skills']:\n",
        "      qualified = False\n",
        "    # print(skills)\n",
        "    # print(jobs['skills'])\n",
        "    # print(qualified)\n",
        "      break\n",
        "  if qualified:\n",
        "      print(jobs['role'])"
      ],
      "metadata": {
        "colab": {
          "base_uri": "https://localhost:8080/"
        },
        "id": "Xu59BSQ-Ub7s",
        "outputId": "59dd4b39-ce6f-4ff0-f1ca-90f6f1c5d3fc"
      },
      "execution_count": null,
      "outputs": [
        {
          "output_type": "stream",
          "name": "stdout",
          "text": [
            "Data Analyst\n",
            "Business Intelligence Analyst\n"
          ]
        }
      ]
    },
    {
      "cell_type": "markdown",
      "source": [
        "User-defined functions"
      ],
      "metadata": {
        "id": "S6mRVeadndsF"
      }
    },
    {
      "cell_type": "code",
      "source": [
        "# to define functions...\n",
        "\n",
        "salary = 20_000\n",
        "increase_rate = 0.5\n",
        "\n",
        "def calculate(salary, increase_rate):\n",
        "\n",
        "  total_salary = salary * (1 + increase_rate)\n",
        "\n",
        "  return total_salary\n",
        "\n",
        "calculate(salary, increase_rate)"
      ],
      "metadata": {
        "colab": {
          "base_uri": "https://localhost:8080/"
        },
        "id": "Mbe-UM60naNK",
        "outputId": "4c105ae9-2122-4861-c9b3-2172c4e80a64"
      },
      "execution_count": null,
      "outputs": [
        {
          "output_type": "execute_result",
          "data": {
            "text/plain": [
              "30000.0"
            ]
          },
          "metadata": {},
          "execution_count": 10
        }
      ]
    },
    {
      "cell_type": "code",
      "source": [
        "calculate(3000000, 0.05)"
      ],
      "metadata": {
        "colab": {
          "base_uri": "https://localhost:8080/"
        },
        "id": "zDFaff7GoaVq",
        "outputId": "fe692890-2866-4b10-dc15-bb2cf7c1c38c"
      },
      "execution_count": null,
      "outputs": [
        {
          "output_type": "execute_result",
          "data": {
            "text/plain": [
              "3150000.0"
            ]
          },
          "metadata": {},
          "execution_count": 11
        }
      ]
    },
    {
      "cell_type": "code",
      "source": [
        "salary = 20_000\n",
        "increase_rate = 0.5\n",
        "\n",
        "def calculate(salary, increase_rate):\n",
        "\n",
        "  total_salary = salary * (1 + increase_rate)\n",
        "\n",
        "  return total_salary\n",
        "\n",
        "calculate(salary, increase_rate)"
      ],
      "metadata": {
        "id": "HoLoMWc-pqQt",
        "colab": {
          "base_uri": "https://localhost:8080/"
        },
        "outputId": "54e08e32-bd82-4a20-d4e3-f60037f9d629"
      },
      "execution_count": null,
      "outputs": [
        {
          "output_type": "execute_result",
          "data": {
            "text/plain": [
              "30000.0"
            ]
          },
          "metadata": {},
          "execution_count": 12
        }
      ]
    },
    {
      "cell_type": "markdown",
      "source": [
        "to make the value of bonus rate fixed, specify it in the function variable as below."
      ],
      "metadata": {
        "id": "ZNjOOLBGqd2D"
      }
    },
    {
      "cell_type": "code",
      "source": [
        "#salary = 20_000\n",
        "#increase_rate = 0.5\n",
        "\n",
        "def calculate(salary, increase_rate=0.5):\n",
        "\n",
        "  total_salary = salary * (1 + increase_rate)\n",
        "\n",
        "  return total_salary\n",
        "\n",
        "calculate(20000000)"
      ],
      "metadata": {
        "colab": {
          "base_uri": "https://localhost:8080/"
        },
        "id": "fhz6K__yq25C",
        "outputId": "a881014c-df2f-4ca1-9d12-e81890ef4c74"
      },
      "execution_count": null,
      "outputs": [
        {
          "output_type": "execute_result",
          "data": {
            "text/plain": [
              "30000000.0"
            ]
          },
          "metadata": {},
          "execution_count": 13
        }
      ]
    },
    {
      "cell_type": "code",
      "source": [],
      "metadata": {
        "id": "uVVf603oq8yF"
      },
      "execution_count": null,
      "outputs": []
    },
    {
      "cell_type": "markdown",
      "source": [
        "lambda functions\n"
      ],
      "metadata": {
        "id": "ymugF2tnx-5T"
      }
    },
    {
      "cell_type": "code",
      "source": [
        "mul_2 = lambda x: x * 2"
      ],
      "metadata": {
        "id": "ETWd-yqMyEiK"
      },
      "execution_count": null,
      "outputs": []
    },
    {
      "cell_type": "code",
      "source": [
        "mul_2(3)"
      ],
      "metadata": {
        "colab": {
          "base_uri": "https://localhost:8080/"
        },
        "id": "Hsrx-BYWyJte",
        "outputId": "3b0920e7-dbb3-4732-97c4-96ad28de94d9"
      },
      "execution_count": null,
      "outputs": [
        {
          "output_type": "execute_result",
          "data": {
            "text/plain": [
              "6"
            ]
          },
          "metadata": {},
          "execution_count": 15
        }
      ]
    },
    {
      "cell_type": "code",
      "source": [
        "mul_3 = lambda x, y: x * 2 + y\n",
        "\n",
        "# or\n",
        "\n",
        "# (lambda x, y: x * 2 + y)(3, 4)"
      ],
      "metadata": {
        "id": "QSI2RpXcyXmA"
      },
      "execution_count": null,
      "outputs": []
    },
    {
      "cell_type": "code",
      "source": [
        "mul_3(3, 4)"
      ],
      "metadata": {
        "colab": {
          "base_uri": "https://localhost:8080/"
        },
        "id": "pE34JDCzyzRr",
        "outputId": "ac3fb6b3-b85e-447f-cfb3-c4fbfbef966f"
      },
      "execution_count": null,
      "outputs": [
        {
          "output_type": "execute_result",
          "data": {
            "text/plain": [
              "10"
            ]
          },
          "metadata": {},
          "execution_count": 17
        }
      ]
    },
    {
      "cell_type": "code",
      "source": [
        "salary_list = [100_000, 150_000, 200_000, 190_000, 210_000, 105_000, 106_000, 138_000]\n",
        "\n",
        "# def calculate(salary, increase_rate=0.5):\n",
        "\n",
        "#   total_salary = salary * (1 + increase_rate)\n",
        "\n",
        "#   return total_salary\n",
        "\n",
        "# list comprehension\n",
        "total_salary_list = [calculate(salary) for salary in salary_list]\n",
        "print(total_salary_list)\n"
      ],
      "metadata": {
        "colab": {
          "base_uri": "https://localhost:8080/"
        },
        "id": "Qj3T2CtYy2Vf",
        "outputId": "cdc55664-b4c1-4840-bb4d-5befd264e3c4"
      },
      "execution_count": null,
      "outputs": [
        {
          "output_type": "stream",
          "name": "stdout",
          "text": [
            "[150000.0, 225000.0, 300000.0, 285000.0, 315000.0, 157500.0, 159000.0, 207000.0]\n"
          ]
        }
      ]
    },
    {
      "cell_type": "code",
      "source": [
        "# using lambda\n",
        "\n",
        "salary_list = [100_000, 150_000, 200_000, 190_000, 210_000, 105_000, 106_000, 138_000]\n",
        "\n",
        "total_salary_list = [round((lambda x: x * 1.1)(salary)) for salary in salary_list]\n",
        "print(total_salary_list)\n",
        "\n",
        "#or\n",
        "\n",
        "total_salary_list = [round((salary * 1.1)) for salary in salary_list]\n",
        "print(total_salary_list)"
      ],
      "metadata": {
        "colab": {
          "base_uri": "https://localhost:8080/"
        },
        "id": "OKcn6I2-zyq4",
        "outputId": "39a56b11-0725-4fe7-ec6d-fe9ffa395872"
      },
      "execution_count": null,
      "outputs": [
        {
          "output_type": "stream",
          "name": "stdout",
          "text": [
            "[110000, 165000, 220000, 209000, 231000, 115500, 116600, 151800]\n",
            "[110000, 165000, 220000, 209000, 231000, 115500, 116600, 151800]\n"
          ]
        }
      ]
    },
    {
      "cell_type": "code",
      "source": [],
      "metadata": {
        "id": "5hP-udAK1w6T"
      },
      "execution_count": null,
      "outputs": []
    },
    {
      "cell_type": "markdown",
      "source": [
        "more complex use of lambda"
      ],
      "metadata": {
        "id": "RbfQqJdE2xom"
      }
    },
    {
      "cell_type": "code",
      "source": [
        "job_data = [\n",
        "    {\"job_title\": \"Data Scientist\", \"job_skills\": [\"Python\", \"SQL\", \"Machine Learning\", \"Statistics\"], \"remote\": True},\n",
        "    {\"job_title\": \"Machine Learning Engineer\", \"job_skills\": [\"Python\", \"TensorFlow\", \"Deep Learning\", \"Cloud Computing\"], \"remote\": False},\n",
        "    {\"job_title\": \"Data Analyst\", \"job_skills\": [\"SQL\", \"Excel\", \"Data Visualization\", \"Power BI\"], \"remote\": True},\n",
        "    {\"job_title\": \"AI Research Scientist\", \"job_skills\": [\"Python\", \"NLP\", \"Research\", \"PyTorch\"], \"remote\": False},\n",
        "    {\"job_title\": \"Business Intelligence Analyst\", \"job_skills\": [\"SQL\", \"Tableau\", \"Data Warehousing\", \"Critical Thinking\"], \"remote\": True}\n",
        "]"
      ],
      "metadata": {
        "id": "1smhy-MK35hP"
      },
      "execution_count": null,
      "outputs": []
    },
    {
      "cell_type": "code",
      "source": [
        "list(filter(lambda job: job['remote'], job_data))\n",
        "# put inside a list to show all values."
      ],
      "metadata": {
        "colab": {
          "base_uri": "https://localhost:8080/"
        },
        "id": "v8HDodE_4yde",
        "outputId": "f4b27472-83b0-4f5c-dec5-13240d39bd55"
      },
      "execution_count": null,
      "outputs": [
        {
          "output_type": "execute_result",
          "data": {
            "text/plain": [
              "[{'job_title': 'Data Scientist',\n",
              "  'job_skills': ['Python', 'SQL', 'Machine Learning', 'Statistics'],\n",
              "  'remote': True},\n",
              " {'job_title': 'Data Analyst',\n",
              "  'job_skills': ['SQL', 'Excel', 'Data Visualization', 'Power BI'],\n",
              "  'remote': True},\n",
              " {'job_title': 'Business Intelligence Analyst',\n",
              "  'job_skills': ['SQL', 'Tableau', 'Data Warehousing', 'Critical Thinking'],\n",
              "  'remote': True}]"
            ]
          },
          "metadata": {},
          "execution_count": 21
        }
      ]
    },
    {
      "cell_type": "code",
      "source": [
        "#to show values for both remote and python:\n",
        "\n",
        "list(filter(lambda job: job['remote'] and 'Python' in job['job_skills'], job_data))"
      ],
      "metadata": {
        "colab": {
          "base_uri": "https://localhost:8080/"
        },
        "id": "IZZVxjtf6oAm",
        "outputId": "9999f64d-b7ff-411a-bc43-aece17580ca0"
      },
      "execution_count": null,
      "outputs": [
        {
          "output_type": "execute_result",
          "data": {
            "text/plain": [
              "[{'job_title': 'Data Scientist',\n",
              "  'job_skills': ['Python', 'SQL', 'Machine Learning', 'Statistics'],\n",
              "  'remote': True}]"
            ]
          },
          "metadata": {},
          "execution_count": 22
        }
      ]
    },
    {
      "cell_type": "markdown",
      "source": [
        "#Modules"
      ],
      "metadata": {
        "id": "zZ64vDh6-I9i"
      }
    },
    {
      "cell_type": "code",
      "source": [
        "import modu\n",
        "\n",
        "print(modu.skill_list)"
      ],
      "metadata": {
        "id": "vaeiE_v--NfH",
        "colab": {
          "base_uri": "https://localhost:8080/"
        },
        "outputId": "a0fa500b-a880-4bcf-8660-65b909a6ff74"
      },
      "execution_count": null,
      "outputs": [
        {
          "output_type": "stream",
          "name": "stdout",
          "text": [
            "['Python', 'SQL', 'Excel']\n"
          ]
        }
      ]
    },
    {
      "cell_type": "code",
      "source": [
        "modu.skill('Python')"
      ],
      "metadata": {
        "id": "dTPv8GBUIHKs",
        "colab": {
          "base_uri": "https://localhost:8080/",
          "height": 35
        },
        "outputId": "c5df2017-c220-44ae-d26d-f34aeec2c3d2"
      },
      "execution_count": null,
      "outputs": [
        {
          "output_type": "execute_result",
          "data": {
            "text/plain": [
              "'Python is my favorite skill'"
            ],
            "application/vnd.google.colaboratory.intrinsic+json": {
              "type": "string"
            }
          },
          "metadata": {},
          "execution_count": 24
        }
      ]
    },
    {
      "cell_type": "code",
      "source": [
        "import job_analyzer\n",
        "\n",
        "job_analyzer.calculate(5_000_000)"
      ],
      "metadata": {
        "colab": {
          "base_uri": "https://localhost:8080/"
        },
        "id": "fFeQ1mQVWQGf",
        "outputId": "dfbb31b2-47c1-4c4c-e140-3c75fed47c8e"
      },
      "execution_count": null,
      "outputs": [
        {
          "output_type": "execute_result",
          "data": {
            "text/plain": [
              "7500000.0"
            ]
          },
          "metadata": {},
          "execution_count": 25
        }
      ]
    },
    {
      "cell_type": "code",
      "source": [
        "# or\n",
        "\n",
        "from job_analyzer import calculate\n",
        "\n",
        "calculate(5_000_000)"
      ],
      "metadata": {
        "colab": {
          "base_uri": "https://localhost:8080/"
        },
        "id": "ztGdiHJSWnvo",
        "outputId": "0fb9a0b8-f38c-4c51-ebb3-191abb99630e"
      },
      "execution_count": null,
      "outputs": [
        {
          "output_type": "execute_result",
          "data": {
            "text/plain": [
              "7500000.0"
            ]
          },
          "metadata": {},
          "execution_count": 26
        }
      ]
    },
    {
      "cell_type": "code",
      "source": [
        "# for more than 1 functions in the modules\n",
        "\n",
        "from job_analyzer import calculate, calculate_bonus\n",
        "\n",
        "calculate(5_000_000)\n",
        "\n",
        "calculate_bonus(5_000_000, 2_000_000)\n",
        "\n",
        "#or\n",
        "\n",
        "from job_analyzer import *\n",
        "\n",
        "calculate(5_000_000)\n",
        "\n",
        "calculate_bonus(5_000_000, 2_000_000)\n"
      ],
      "metadata": {
        "colab": {
          "base_uri": "https://localhost:8080/"
        },
        "id": "XnGC8f6OXB_4",
        "outputId": "91d89227-70ab-4480-a9ed-18390fa9681e"
      },
      "execution_count": null,
      "outputs": [
        {
          "output_type": "execute_result",
          "data": {
            "text/plain": [
              "1.5"
            ]
          },
          "metadata": {},
          "execution_count": 28
        }
      ]
    },
    {
      "cell_type": "markdown",
      "source": [
        "python standard module"
      ],
      "metadata": {
        "id": "VG9kEnqVamsj"
      }
    },
    {
      "cell_type": "code",
      "source": [
        "salary_list = [100_000, 150_000, 200_000, 190_000, 210_000, 105_000, 106_000, 138_000]"
      ],
      "metadata": {
        "id": "e9F2dif4Ykli"
      },
      "execution_count": null,
      "outputs": []
    },
    {
      "cell_type": "code",
      "source": [
        "from statistics import mean, median, mode\n",
        "\n",
        "mean(salary_list)"
      ],
      "metadata": {
        "colab": {
          "base_uri": "https://localhost:8080/"
        },
        "id": "hFe_jmtratK-",
        "outputId": "138c8d87-ab69-464b-e9fe-c128bb241a70"
      },
      "execution_count": null,
      "outputs": [
        {
          "output_type": "execute_result",
          "data": {
            "text/plain": [
              "149875"
            ]
          },
          "metadata": {},
          "execution_count": 33
        }
      ]
    },
    {
      "cell_type": "code",
      "source": [
        "mode(salary_list)"
      ],
      "metadata": {
        "colab": {
          "base_uri": "https://localhost:8080/"
        },
        "id": "lbFDdVcDcBBK",
        "outputId": "8370548d-e748-4abd-9002-6228ee37bc37"
      },
      "execution_count": null,
      "outputs": [
        {
          "output_type": "execute_result",
          "data": {
            "text/plain": [
              "100000"
            ]
          },
          "metadata": {},
          "execution_count": 34
        }
      ]
    },
    {
      "cell_type": "code",
      "source": [
        "median(salary_list)"
      ],
      "metadata": {
        "colab": {
          "base_uri": "https://localhost:8080/"
        },
        "id": "q4xXuJH0cDd4",
        "outputId": "4e1a80f0-7143-44b0-8512-a7d3fc7e786d"
      },
      "execution_count": null,
      "outputs": [
        {
          "output_type": "execute_result",
          "data": {
            "text/plain": [
              "144000.0"
            ]
          },
          "metadata": {},
          "execution_count": 35
        }
      ]
    },
    {
      "cell_type": "markdown",
      "source": [
        "exercise - data cleanup <br>\n",
        "clean up date\n"
      ],
      "metadata": {
        "id": "Rst2rtVhdX2w"
      }
    },
    {
      "cell_type": "code",
      "source": [
        "data_science_jobs = [\n",
        "    {\n",
        "        \"job_title\": \"Data Scientist\",\n",
        "        \"job_skills\": [\"Python\", \"SQL\", \"Machine Learning\", \"Statistics\"],\n",
        "        \"job_date\": \"2024-12-01 09:00:00\"\n",
        "    },\n",
        "    {\n",
        "        \"job_title\": \"Machine Learning Engineer\",\n",
        "        \"job_skills\": [\"Python\", \"TensorFlow\", \"Deep Learning\", \"Numpy\"],\n",
        "        \"job_date\": \"2024-12-02 10:30:00\"\n",
        "    },\n",
        "    {\n",
        "        \"job_title\": \"Data Analyst\",\n",
        "        \"job_skills\": [\"SQL\", \"Excel\", \"Tableau\", \"Data Visualization\"],\n",
        "        \"job_date\": \"2024-12-03 08:45:00\"\n",
        "    },\n",
        "    {\n",
        "        \"job_title\": \"AI Research Scientist\",\n",
        "        \"job_skills\": [\"Python\", \"NLP\", \"PyTorch\", \"Research\"],\n",
        "        \"job_date\": \"2024-12-04 14:00:00\"\n",
        "    },\n",
        "    {\n",
        "        \"job_title\": \"Business Intelligence Analyst\",\n",
        "        \"job_skills\": [\"SQL\", \"Power BI\", \"Critical Thinking\", \"ETL\"],\n",
        "        \"job_date\": \"2024-12-05 11:15:00\"\n",
        "    }\n",
        "]\n"
      ],
      "metadata": {
        "id": "boU4D09BcGoF"
      },
      "execution_count": null,
      "outputs": []
    },
    {
      "cell_type": "code",
      "source": [
        "from datetime import datetime\n",
        "datetime.now()"
      ],
      "metadata": {
        "colab": {
          "base_uri": "https://localhost:8080/"
        },
        "id": "lNJaDsEFd93j",
        "outputId": "f50a23d9-32c3-4383-f93f-ea7f84732298"
      },
      "execution_count": null,
      "outputs": [
        {
          "output_type": "execute_result",
          "data": {
            "text/plain": [
              "datetime.datetime(2024, 12, 9, 12, 57, 42, 313247)"
            ]
          },
          "metadata": {},
          "execution_count": 38
        }
      ]
    },
    {
      "cell_type": "code",
      "source": [
        "type(data_science_jobs[0]['job_date'])"
      ],
      "metadata": {
        "colab": {
          "base_uri": "https://localhost:8080/"
        },
        "id": "Laf37Eo_fzjP",
        "outputId": "e766fab1-391e-4c35-899e-0110203162bf"
      },
      "execution_count": null,
      "outputs": [
        {
          "output_type": "execute_result",
          "data": {
            "text/plain": [
              "str"
            ]
          },
          "metadata": {},
          "execution_count": 41
        }
      ]
    },
    {
      "cell_type": "code",
      "source": [
        "test_date = data_science_jobs[0]['job_date']\n",
        "\n",
        "print(datetime.strptime(test_date, '%Y-%m-%d %H:%M:%S'))\n"
      ],
      "metadata": {
        "colab": {
          "base_uri": "https://localhost:8080/"
        },
        "id": "EZLCBO68gLIs",
        "outputId": "ce68668c-800c-45b7-a0a4-ae162470b01c"
      },
      "execution_count": null,
      "outputs": [
        {
          "output_type": "stream",
          "name": "stdout",
          "text": [
            "2024-12-01 09:00:00\n"
          ]
        }
      ]
    },
    {
      "cell_type": "code",
      "source": [
        "for job in data_science_jobs:\n",
        "  if isinstance(job['job_date'], str):  # Check if 'job_date' is a string\n",
        "    job['job_date'] = datetime.strptime(job['job_date'], '%Y-%m-%d %H:%M:%S')\n",
        "\n",
        "print(data_science_jobs)"
      ],
      "metadata": {
        "colab": {
          "base_uri": "https://localhost:8080/"
        },
        "id": "3E6TZp-Ssw68",
        "outputId": "cf359950-ea5a-4691-d2a1-8ed285c99a7f"
      },
      "execution_count": null,
      "outputs": [
        {
          "output_type": "stream",
          "name": "stdout",
          "text": [
            "[{'job_title': 'Data Scientist', 'job_skills': ['Python', 'SQL', 'Machine Learning', 'Statistics'], 'job_date': datetime.datetime(2024, 12, 1, 9, 0)}, {'job_title': 'Machine Learning Engineer', 'job_skills': ['Python', 'TensorFlow', 'Deep Learning', 'Numpy'], 'job_date': datetime.datetime(2024, 12, 2, 10, 30)}, {'job_title': 'Data Analyst', 'job_skills': ['SQL', 'Excel', 'Tableau', 'Data Visualization'], 'job_date': datetime.datetime(2024, 12, 3, 8, 45)}, {'job_title': 'AI Research Scientist', 'job_skills': ['Python', 'NLP', 'PyTorch', 'Research'], 'job_date': datetime.datetime(2024, 12, 4, 14, 0)}, {'job_title': 'Business Intelligence Analyst', 'job_skills': ['SQL', 'Power BI', 'Critical Thinking', 'ETL'], 'job_date': datetime.datetime(2024, 12, 5, 11, 15)}]\n"
          ]
        }
      ]
    },
    {
      "cell_type": "code",
      "source": [],
      "metadata": {
        "id": "0ZM4_lSBvSlq"
      },
      "execution_count": null,
      "outputs": []
    },
    {
      "cell_type": "code",
      "source": [
        "data_science_job = [\n",
        "    {\n",
        "        \"job_title\": \"Data Scientist\",\n",
        "        \"job_skills\": '[\"Python\", \"SQL\", \"Machine Learning\", \"Statistics\"]',\n",
        "        \"job_date\": \"2024-12-01 09:00:00\"\n",
        "    },\n",
        "    {\n",
        "        \"job_title\": \"Machine Learning Engineer\",\n",
        "        \"job_skills\": '[\"Python\", \"TensorFlow\", \"Deep Learning\", \"Numpy\"]',\n",
        "        \"job_date\": \"2024-12-02 10:30:00\"\n",
        "    },\n",
        "    {\n",
        "        \"job_title\": \"Data Analyst\",\n",
        "        \"job_skills\": '[\"SQL\", \"Excel\", \"Tableau\", \"Data Visualization\"]',\n",
        "        \"job_date\": \"2024-12-03 08:45:00\"\n",
        "    },\n",
        "    {\n",
        "        \"job_title\": \"AI Research Scientist\",\n",
        "        \"job_skills\": '[\"Python\", \"NLP\", \"PyTorch\", \"Research\"]',\n",
        "        \"job_date\": \"2024-12-04 14:00:00\"\n",
        "    },\n",
        "    {\n",
        "        \"job_title\": \"Business Intelligence Analyst\",\n",
        "        \"job_skills\": '[\"SQL\", \"Power BI\", \"Critical Thinking\", \"ETL\"]',\n",
        "        \"job_date\": \"2024-12-05 11:15:00\"\n",
        "    }\n",
        "]\n"
      ],
      "metadata": {
        "id": "WA4oomcNvTAt"
      },
      "execution_count": null,
      "outputs": []
    },
    {
      "cell_type": "code",
      "source": [
        "import ast\n",
        "\n",
        "for skills in data_science_job:\n",
        "  skills['job_skills'] = ast.literal_eval(skills['job_skills'])"
      ],
      "metadata": {
        "id": "BKCJnTqOw7zT"
      },
      "execution_count": null,
      "outputs": []
    },
    {
      "cell_type": "code",
      "source": [
        "print(data_science_job)"
      ],
      "metadata": {
        "colab": {
          "base_uri": "https://localhost:8080/"
        },
        "id": "tXI2cFRRxCzs",
        "outputId": "88bf495b-0324-45dd-b416-552ad535316e"
      },
      "execution_count": null,
      "outputs": [
        {
          "output_type": "stream",
          "name": "stdout",
          "text": [
            "[{'job_title': 'Data Scientist', 'job_skills': ['Python', 'SQL', 'Machine Learning', 'Statistics'], 'job_date': '2024-12-01 09:00:00'}, {'job_title': 'Machine Learning Engineer', 'job_skills': ['Python', 'TensorFlow', 'Deep Learning', 'Numpy'], 'job_date': '2024-12-02 10:30:00'}, {'job_title': 'Data Analyst', 'job_skills': ['SQL', 'Excel', 'Tableau', 'Data Visualization'], 'job_date': '2024-12-03 08:45:00'}, {'job_title': 'AI Research Scientist', 'job_skills': ['Python', 'NLP', 'PyTorch', 'Research'], 'job_date': '2024-12-04 14:00:00'}, {'job_title': 'Business Intelligence Analyst', 'job_skills': ['SQL', 'Power BI', 'Critical Thinking', 'ETL'], 'job_date': '2024-12-05 11:15:00'}]\n"
          ]
        }
      ]
    },
    {
      "cell_type": "code",
      "source": [
        "from datetime import datetime\n",
        "\n",
        "# job_D = data_science_job['job_date']\n",
        "\n",
        "# print(datetime.strptime(test_date, '%Y-%m-%d %H:%M:%S'))\n",
        "\n",
        "for date in data_science_job:\n",
        "  date['job_date'] = datetime.strptime(date['job_date'], '%Y-%m-%d %H:%M:%S')"
      ],
      "metadata": {
        "id": "UsOC23ogx2hi"
      },
      "execution_count": null,
      "outputs": []
    },
    {
      "cell_type": "code",
      "source": [
        "print(data_science_job)"
      ],
      "metadata": {
        "colab": {
          "base_uri": "https://localhost:8080/"
        },
        "id": "1A05zxIgzUot",
        "outputId": "a357c818-c729-46b3-e0dc-fa1e69f31391"
      },
      "execution_count": null,
      "outputs": [
        {
          "output_type": "stream",
          "name": "stdout",
          "text": [
            "[{'job_title': 'Data Scientist', 'job_skills': ['Python', 'SQL', 'Machine Learning', 'Statistics'], 'job_date': datetime.datetime(2024, 12, 1, 9, 0)}, {'job_title': 'Machine Learning Engineer', 'job_skills': ['Python', 'TensorFlow', 'Deep Learning', 'Numpy'], 'job_date': datetime.datetime(2024, 12, 2, 10, 30)}, {'job_title': 'Data Analyst', 'job_skills': ['SQL', 'Excel', 'Tableau', 'Data Visualization'], 'job_date': datetime.datetime(2024, 12, 3, 8, 45)}, {'job_title': 'AI Research Scientist', 'job_skills': ['Python', 'NLP', 'PyTorch', 'Research'], 'job_date': datetime.datetime(2024, 12, 4, 14, 0)}, {'job_title': 'Business Intelligence Analyst', 'job_skills': ['SQL', 'Power BI', 'Critical Thinking', 'ETL'], 'job_date': datetime.datetime(2024, 12, 5, 11, 15)}]\n"
          ]
        }
      ]
    },
    {
      "cell_type": "code",
      "source": [
        "for skills in data_science_job:\n",
        "   print(skills['job_date'])"
      ],
      "metadata": {
        "colab": {
          "base_uri": "https://localhost:8080/"
        },
        "id": "4doWPLtfzube",
        "outputId": "d13868f9-9db9-4d68-af67-160c0529aaa3"
      },
      "execution_count": null,
      "outputs": [
        {
          "output_type": "stream",
          "name": "stdout",
          "text": [
            "2024-12-01 09:00:00\n",
            "2024-12-02 10:30:00\n",
            "2024-12-03 08:45:00\n",
            "2024-12-04 14:00:00\n",
            "2024-12-05 11:15:00\n"
          ]
        }
      ]
    },
    {
      "cell_type": "code",
      "source": [
        "type(data_science_job[0]['job_date'])"
      ],
      "metadata": {
        "colab": {
          "base_uri": "https://localhost:8080/"
        },
        "id": "Rz7kXWxB0eDl",
        "outputId": "0c92cefb-e743-4fc2-c10f-70e70d9da0ca"
      },
      "execution_count": null,
      "outputs": [
        {
          "output_type": "execute_result",
          "data": {
            "text/plain": [
              "datetime.datetime"
            ]
          },
          "metadata": {},
          "execution_count": 84
        }
      ]
    },
    {
      "cell_type": "markdown",
      "source": [
        "libraries -- pandas"
      ],
      "metadata": {
        "id": "0OdzCHEs3UAH"
      }
    },
    {
      "cell_type": "code",
      "source": [
        "! pip install pandas"
      ],
      "metadata": {
        "colab": {
          "base_uri": "https://localhost:8080/"
        },
        "id": "n97vPjn85n8S",
        "outputId": "f553aab9-e292-4b95-c87b-86365f4377d0"
      },
      "execution_count": null,
      "outputs": [
        {
          "output_type": "stream",
          "name": "stdout",
          "text": [
            "Requirement already satisfied: pandas in /usr/local/lib/python3.10/dist-packages (2.2.2)\n",
            "Requirement already satisfied: numpy>=1.22.4 in /usr/local/lib/python3.10/dist-packages (from pandas) (1.26.4)\n",
            "Requirement already satisfied: python-dateutil>=2.8.2 in /usr/local/lib/python3.10/dist-packages (from pandas) (2.8.2)\n",
            "Requirement already satisfied: pytz>=2020.1 in /usr/local/lib/python3.10/dist-packages (from pandas) (2024.2)\n",
            "Requirement already satisfied: tzdata>=2022.7 in /usr/local/lib/python3.10/dist-packages (from pandas) (2024.2)\n",
            "Requirement already satisfied: six>=1.5 in /usr/local/lib/python3.10/dist-packages (from python-dateutil>=2.8.2->pandas) (1.16.0)\n"
          ]
        }
      ]
    },
    {
      "cell_type": "code",
      "source": [
        "pip list"
      ],
      "metadata": {
        "colab": {
          "base_uri": "https://localhost:8080/"
        },
        "id": "BuCkL1d_5z0p",
        "outputId": "6f4e2e10-1276-4833-fcd8-9876517bfe32"
      },
      "execution_count": null,
      "outputs": [
        {
          "output_type": "stream",
          "name": "stdout",
          "text": [
            "Package                            Version\n",
            "---------------------------------- -------------------\n",
            "absl-py                            1.4.0\n",
            "accelerate                         1.1.1\n",
            "aiohappyeyeballs                   2.4.4\n",
            "aiohttp                            3.11.9\n",
            "aiosignal                          1.3.1\n",
            "alabaster                          1.0.0\n",
            "albucore                           0.0.19\n",
            "albumentations                     1.4.20\n",
            "altair                             4.2.2\n",
            "annotated-types                    0.7.0\n",
            "anyio                              3.7.1\n",
            "argon2-cffi                        23.1.0\n",
            "argon2-cffi-bindings               21.2.0\n",
            "array_record                       0.5.1\n",
            "arviz                              0.20.0\n",
            "astropy                            6.1.7\n",
            "astropy-iers-data                  0.2024.12.2.0.35.34\n",
            "astunparse                         1.6.3\n",
            "async-timeout                      4.0.3\n",
            "atpublic                           4.1.0\n",
            "attrs                              24.2.0\n",
            "audioread                          3.0.1\n",
            "autograd                           1.7.0\n",
            "babel                              2.16.0\n",
            "backcall                           0.2.0\n",
            "beautifulsoup4                     4.12.3\n",
            "bigframes                          1.27.0\n",
            "bigquery-magics                    0.4.0\n",
            "bleach                             6.2.0\n",
            "blinker                            1.9.0\n",
            "blis                               0.7.11\n",
            "blosc2                             2.7.1\n",
            "bokeh                              3.6.2\n",
            "Bottleneck                         1.4.2\n",
            "bqplot                             0.12.43\n",
            "branca                             0.8.0\n",
            "CacheControl                       0.14.1\n",
            "cachetools                         5.5.0\n",
            "catalogue                          2.0.10\n",
            "certifi                            2024.8.30\n",
            "cffi                               1.17.1\n",
            "chardet                            5.2.0\n",
            "charset-normalizer                 3.4.0\n",
            "chex                               0.1.87\n",
            "clarabel                           0.9.0\n",
            "click                              8.1.7\n",
            "cloudpathlib                       0.20.0\n",
            "cloudpickle                        3.1.0\n",
            "cmake                              3.30.5\n",
            "cmdstanpy                          1.2.4\n",
            "colorcet                           3.1.0\n",
            "colorlover                         0.3.0\n",
            "colour                             0.1.5\n",
            "community                          1.0.0b1\n",
            "confection                         0.1.5\n",
            "cons                               0.4.6\n",
            "contourpy                          1.3.1\n",
            "cryptography                       43.0.3\n",
            "cuda-python                        12.2.1\n",
            "cudf-cu12                          24.10.1\n",
            "cufflinks                          0.17.3\n",
            "cupy-cuda12x                       12.2.0\n",
            "cvxopt                             1.3.2\n",
            "cvxpy                              1.5.4\n",
            "cycler                             0.12.1\n",
            "cymem                              2.0.10\n",
            "Cython                             3.0.11\n",
            "dask                               2024.10.0\n",
            "datascience                        0.17.6\n",
            "db-dtypes                          1.3.1\n",
            "dbus-python                        1.2.18\n",
            "debugpy                            1.8.0\n",
            "decorator                          4.4.2\n",
            "defusedxml                         0.7.1\n",
            "Deprecated                         1.2.15\n",
            "diffusers                          0.31.0\n",
            "distro                             1.9.0\n",
            "dlib                               19.24.2\n",
            "dm-tree                            0.1.8\n",
            "docker-pycreds                     0.4.0\n",
            "docstring_parser                   0.16\n",
            "docutils                           0.21.2\n",
            "dopamine_rl                        4.0.9\n",
            "duckdb                             1.1.3\n",
            "earthengine-api                    1.2.0\n",
            "easydict                           1.13\n",
            "ecos                               2.0.14\n",
            "editdistance                       0.8.1\n",
            "eerepr                             0.0.4\n",
            "einops                             0.8.0\n",
            "en-core-web-sm                     3.7.1\n",
            "entrypoints                        0.4\n",
            "et_xmlfile                         2.0.0\n",
            "etils                              1.11.0\n",
            "etuples                            0.3.9\n",
            "eval_type_backport                 0.2.0\n",
            "exceptiongroup                     1.2.2\n",
            "fastai                             2.7.18\n",
            "fastcore                           1.7.22\n",
            "fastdownload                       0.0.7\n",
            "fastjsonschema                     2.21.1\n",
            "fastprogress                       1.0.3\n",
            "fastrlock                          0.8.2\n",
            "filelock                           3.16.1\n",
            "firebase-admin                     6.5.0\n",
            "Flask                              3.0.3\n",
            "flatbuffers                        24.3.25\n",
            "flax                               0.8.5\n",
            "folium                             0.18.0\n",
            "fonttools                          4.55.1\n",
            "frozendict                         2.4.6\n",
            "frozenlist                         1.5.0\n",
            "fsspec                             2024.10.0\n",
            "future                             1.0.0\n",
            "gast                               0.6.0\n",
            "gcsfs                              2024.10.0\n",
            "GDAL                               3.6.4\n",
            "gdown                              5.2.0\n",
            "geemap                             0.35.1\n",
            "gensim                             4.3.3\n",
            "geocoder                           1.38.1\n",
            "geographiclib                      2.0\n",
            "geopandas                          1.0.1\n",
            "geopy                              2.4.1\n",
            "gin-config                         0.5.0\n",
            "gitdb                              4.0.11\n",
            "GitPython                          3.1.43\n",
            "glob2                              0.7\n",
            "google                             2.0.3\n",
            "google-ai-generativelanguage       0.6.10\n",
            "google-api-core                    2.19.2\n",
            "google-api-python-client           2.151.0\n",
            "google-auth                        2.27.0\n",
            "google-auth-httplib2               0.2.0\n",
            "google-auth-oauthlib               1.2.1\n",
            "google-cloud-aiplatform            1.73.0\n",
            "google-cloud-bigquery              3.25.0\n",
            "google-cloud-bigquery-connection   1.16.1\n",
            "google-cloud-bigquery-storage      2.27.0\n",
            "google-cloud-bigtable              2.27.0\n",
            "google-cloud-core                  2.4.1\n",
            "google-cloud-datastore             2.20.1\n",
            "google-cloud-firestore             2.19.0\n",
            "google-cloud-functions             1.18.1\n",
            "google-cloud-iam                   2.16.1\n",
            "google-cloud-language              2.15.1\n",
            "google-cloud-pubsub                2.27.1\n",
            "google-cloud-resource-manager      1.13.1\n",
            "google-cloud-storage               2.8.0\n",
            "google-cloud-translate             3.17.0\n",
            "google-colab                       1.0.0\n",
            "google-crc32c                      1.6.0\n",
            "google-generativeai                0.8.3\n",
            "google-pasta                       0.2.0\n",
            "google-resumable-media             2.7.2\n",
            "googleapis-common-protos           1.66.0\n",
            "googledrivedownloader              0.4\n",
            "graphviz                           0.20.3\n",
            "greenlet                           3.1.1\n",
            "grpc-google-iam-v1                 0.13.1\n",
            "grpcio                             1.68.1\n",
            "grpcio-status                      1.62.3\n",
            "gspread                            6.0.2\n",
            "gspread-dataframe                  3.3.1\n",
            "gym                                0.25.2\n",
            "gym-notices                        0.0.8\n",
            "h11                                0.14.0\n",
            "h5netcdf                           1.4.1\n",
            "h5py                               3.12.1\n",
            "holidays                           0.62\n",
            "holoviews                          1.20.0\n",
            "html5lib                           1.1\n",
            "httpcore                           1.0.7\n",
            "httpimport                         1.4.0\n",
            "httplib2                           0.22.0\n",
            "httpx                              0.28.0\n",
            "huggingface-hub                    0.26.3\n",
            "humanize                           4.11.0\n",
            "hyperopt                           0.2.7\n",
            "ibis-framework                     9.2.0\n",
            "idna                               3.10\n",
            "imageio                            2.36.1\n",
            "imageio-ffmpeg                     0.5.1\n",
            "imagesize                          1.4.1\n",
            "imbalanced-learn                   0.12.4\n",
            "imgaug                             0.4.0\n",
            "immutabledict                      4.2.1\n",
            "importlib_metadata                 8.5.0\n",
            "importlib_resources                6.4.5\n",
            "imutils                            0.5.4\n",
            "inflect                            7.4.0\n",
            "iniconfig                          2.0.0\n",
            "intel-cmplr-lib-ur                 2025.0.3\n",
            "intel-openmp                       2025.0.3\n",
            "ipyevents                          2.0.2\n",
            "ipyfilechooser                     0.6.0\n",
            "ipykernel                          5.5.6\n",
            "ipyleaflet                         0.19.2\n",
            "ipyparallel                        8.8.0\n",
            "ipython                            7.34.0\n",
            "ipython-genutils                   0.2.0\n",
            "ipython-sql                        0.5.0\n",
            "ipytree                            0.2.2\n",
            "ipywidgets                         7.7.1\n",
            "itsdangerous                       2.2.0\n",
            "jax                                0.4.33\n",
            "jax-cuda12-pjrt                    0.4.33\n",
            "jax-cuda12-plugin                  0.4.33\n",
            "jaxlib                             0.4.33\n",
            "jeepney                            0.7.1\n",
            "jellyfish                          1.1.2\n",
            "jieba                              0.42.1\n",
            "Jinja2                             3.1.4\n",
            "jiter                              0.8.0\n",
            "joblib                             1.4.2\n",
            "jsonpatch                          1.33\n",
            "jsonpickle                         4.0.0\n",
            "jsonpointer                        3.0.0\n",
            "jsonschema                         4.23.0\n",
            "jsonschema-specifications          2024.10.1\n",
            "jupyter-client                     6.1.12\n",
            "jupyter-console                    6.1.0\n",
            "jupyter_core                       5.7.2\n",
            "jupyter-leaflet                    0.19.2\n",
            "jupyter-server                     1.24.0\n",
            "jupyterlab_pygments                0.3.0\n",
            "jupyterlab_widgets                 3.0.13\n",
            "kaggle                             1.6.17\n",
            "kagglehub                          0.3.4\n",
            "keras                              3.5.0\n",
            "keyring                            23.5.0\n",
            "kiwisolver                         1.4.7\n",
            "langchain                          0.3.9\n",
            "langchain-core                     0.3.21\n",
            "langchain-text-splitters           0.3.2\n",
            "langcodes                          3.5.0\n",
            "langsmith                          0.1.147\n",
            "language_data                      1.3.0\n",
            "launchpadlib                       1.10.16\n",
            "lazr.restfulclient                 0.14.4\n",
            "lazr.uri                           1.0.6\n",
            "lazy_loader                        0.4\n",
            "libclang                           18.1.1\n",
            "libcudf-cu12                       24.10.1\n",
            "librosa                            0.10.2.post1\n",
            "lightgbm                           4.5.0\n",
            "linkify-it-py                      2.0.3\n",
            "llvmlite                           0.43.0\n",
            "locket                             1.0.0\n",
            "logical-unification                0.4.6\n",
            "lxml                               5.3.0\n",
            "marisa-trie                        1.2.1\n",
            "Markdown                           3.7\n",
            "markdown-it-py                     3.0.0\n",
            "MarkupSafe                         3.0.2\n",
            "matplotlib                         3.8.0\n",
            "matplotlib-inline                  0.1.7\n",
            "matplotlib-venn                    1.1.1\n",
            "mdit-py-plugins                    0.4.2\n",
            "mdurl                              0.1.2\n",
            "miniKanren                         1.0.3\n",
            "missingno                          0.5.2\n",
            "mistune                            3.0.2\n",
            "mizani                             0.13.0\n",
            "mkl                                2025.0.1\n",
            "ml-dtypes                          0.4.1\n",
            "mlxtend                            0.23.3\n",
            "more-itertools                     10.5.0\n",
            "moviepy                            1.0.3\n",
            "mpmath                             1.3.0\n",
            "msgpack                            1.1.0\n",
            "multidict                          6.1.0\n",
            "multipledispatch                   1.0.0\n",
            "multitasking                       0.0.11\n",
            "murmurhash                         1.0.11\n",
            "music21                            9.3.0\n",
            "namex                              0.0.8\n",
            "natsort                            8.4.0\n",
            "nbclassic                          1.1.0\n",
            "nbclient                           0.10.1\n",
            "nbconvert                          7.16.4\n",
            "nbformat                           5.10.4\n",
            "ndindex                            1.9.2\n",
            "nest-asyncio                       1.6.0\n",
            "networkx                           3.4.2\n",
            "nibabel                            5.3.2\n",
            "nltk                               3.9.1\n",
            "notebook                           6.5.5\n",
            "notebook_shim                      0.2.4\n",
            "numba                              0.60.0\n",
            "numexpr                            2.10.2\n",
            "numpy                              1.26.4\n",
            "nvidia-cublas-cu12                 12.6.4.1\n",
            "nvidia-cuda-cupti-cu12             12.6.80\n",
            "nvidia-cuda-nvcc-cu12              12.6.85\n",
            "nvidia-cuda-runtime-cu12           12.6.77\n",
            "nvidia-cudnn-cu12                  9.6.0.74\n",
            "nvidia-cufft-cu12                  11.3.0.4\n",
            "nvidia-curand-cu12                 10.3.7.77\n",
            "nvidia-cusolver-cu12               11.7.1.2\n",
            "nvidia-cusparse-cu12               12.5.4.2\n",
            "nvidia-nccl-cu12                   2.23.4\n",
            "nvidia-nvjitlink-cu12              12.6.85\n",
            "nvtx                               0.2.10\n",
            "nx-cugraph-cu12                    24.10.0\n",
            "oauth2client                       4.1.3\n",
            "oauthlib                           3.2.2\n",
            "openai                             1.54.5\n",
            "opencv-contrib-python              4.10.0.84\n",
            "opencv-python                      4.10.0.84\n",
            "opencv-python-headless             4.10.0.84\n",
            "openpyxl                           3.1.5\n",
            "opentelemetry-api                  1.28.2\n",
            "opentelemetry-sdk                  1.28.2\n",
            "opentelemetry-semantic-conventions 0.49b2\n",
            "opt_einsum                         3.4.0\n",
            "optax                              0.2.4\n",
            "optree                             0.13.1\n",
            "orbax-checkpoint                   0.6.4\n",
            "orjson                             3.10.12\n",
            "osqp                               0.6.7.post3\n",
            "packaging                          24.2\n",
            "pandas                             2.2.2\n",
            "pandas-datareader                  0.10.0\n",
            "pandas-gbq                         0.24.0\n",
            "pandas-stubs                       2.2.2.240909\n",
            "pandocfilters                      1.5.1\n",
            "panel                              1.5.4\n",
            "param                              2.1.1\n",
            "parso                              0.8.4\n",
            "parsy                              2.1\n",
            "partd                              1.4.2\n",
            "pathlib                            1.0.1\n",
            "patsy                              1.0.1\n",
            "peewee                             3.17.8\n",
            "peft                               0.13.2\n",
            "pexpect                            4.9.0\n",
            "pickleshare                        0.7.5\n",
            "pillow                             11.0.0\n",
            "pip                                24.1.2\n",
            "platformdirs                       4.3.6\n",
            "plotly                             5.24.1\n",
            "plotnine                           0.14.3\n",
            "pluggy                             1.5.0\n",
            "ply                                3.11\n",
            "polars                             1.9.0\n",
            "pooch                              1.8.2\n",
            "portpicker                         1.5.2\n",
            "preshed                            3.0.9\n",
            "prettytable                        3.12.0\n",
            "proglog                            0.1.10\n",
            "progressbar2                       4.5.0\n",
            "prometheus_client                  0.21.1\n",
            "promise                            2.3\n",
            "prompt_toolkit                     3.0.48\n",
            "propcache                          0.2.1\n",
            "prophet                            1.1.6\n",
            "proto-plus                         1.25.0\n",
            "protobuf                           4.25.5\n",
            "psutil                             5.9.5\n",
            "psycopg2                           2.9.10\n",
            "ptyprocess                         0.7.0\n",
            "py-cpuinfo                         9.0.0\n",
            "py4j                               0.10.9.7\n",
            "pyarrow                            17.0.0\n",
            "pyarrow-hotfix                     0.6\n",
            "pyasn1                             0.6.1\n",
            "pyasn1_modules                     0.4.1\n",
            "pycocotools                        2.0.8\n",
            "pycparser                          2.22\n",
            "pydantic                           2.10.3\n",
            "pydantic_core                      2.27.1\n",
            "pydata-google-auth                 1.9.0\n",
            "pydot                              3.0.3\n",
            "pydotplus                          2.0.2\n",
            "PyDrive                            1.3.1\n",
            "PyDrive2                           1.21.3\n",
            "pyerfa                             2.0.1.5\n",
            "pygame                             2.6.1\n",
            "pygit2                             1.16.0\n",
            "Pygments                           2.18.0\n",
            "PyGObject                          3.42.1\n",
            "PyJWT                              2.10.1\n",
            "pylibcudf-cu12                     24.10.1\n",
            "pylibcugraph-cu12                  24.10.0\n",
            "pylibraft-cu12                     24.10.0\n",
            "pymc                               5.18.2\n",
            "pymystem3                          0.2.0\n",
            "pynvjitlink-cu12                   0.4.0\n",
            "pyogrio                            0.10.0\n",
            "Pyomo                              6.8.2\n",
            "PyOpenGL                           3.1.7\n",
            "pyOpenSSL                          24.2.1\n",
            "pyparsing                          3.2.0\n",
            "pyperclip                          1.9.0\n",
            "pyproj                             3.7.0\n",
            "pyshp                              2.3.1\n",
            "PySocks                            1.7.1\n",
            "pyspark                            3.5.3\n",
            "pytensor                           2.26.4\n",
            "pytest                             8.3.4\n",
            "python-apt                         0.0.0\n",
            "python-box                         7.2.0\n",
            "python-dateutil                    2.8.2\n",
            "python-louvain                     0.16\n",
            "python-slugify                     8.0.4\n",
            "python-utils                       3.9.1\n",
            "pytz                               2024.2\n",
            "pyviz_comms                        3.0.3\n",
            "PyYAML                             6.0.2\n",
            "pyzmq                              24.0.1\n",
            "qdldl                              0.1.7.post4\n",
            "ratelim                            0.1.6\n",
            "referencing                        0.35.1\n",
            "regex                              2024.9.11\n",
            "requests                           2.32.3\n",
            "requests-oauthlib                  1.3.1\n",
            "requests-toolbelt                  1.0.0\n",
            "requirements-parser                0.9.0\n",
            "rich                               13.9.4\n",
            "rmm-cu12                           24.10.0\n",
            "rpds-py                            0.22.3\n",
            "rpy2                               3.4.2\n",
            "rsa                                4.9\n",
            "safetensors                        0.4.5\n",
            "scikit-image                       0.24.0\n",
            "scikit-learn                       1.5.2\n",
            "scipy                              1.13.1\n",
            "scooby                             0.10.0\n",
            "scs                                3.2.7\n",
            "seaborn                            0.13.2\n",
            "SecretStorage                      3.3.1\n",
            "Send2Trash                         1.8.3\n",
            "sentence-transformers              3.2.1\n",
            "sentencepiece                      0.2.0\n",
            "sentry-sdk                         2.19.0\n",
            "setproctitle                       1.3.4\n",
            "setuptools                         75.1.0\n",
            "shap                               0.46.0\n",
            "shapely                            2.0.6\n",
            "shellingham                        1.5.4\n",
            "simple-parsing                     0.1.6\n",
            "six                                1.16.0\n",
            "sklearn-pandas                     2.2.0\n",
            "slicer                             0.0.8\n",
            "smart-open                         7.0.5\n",
            "smmap                              5.0.1\n",
            "sniffio                            1.3.1\n",
            "snowballstemmer                    2.2.0\n",
            "soundfile                          0.12.1\n",
            "soupsieve                          2.6\n",
            "soxr                               0.5.0.post1\n",
            "spacy                              3.7.5\n",
            "spacy-legacy                       3.0.12\n",
            "spacy-loggers                      1.0.5\n",
            "Sphinx                             8.1.3\n",
            "sphinxcontrib-applehelp            2.0.0\n",
            "sphinxcontrib-devhelp              2.0.0\n",
            "sphinxcontrib-htmlhelp             2.1.0\n",
            "sphinxcontrib-jsmath               1.0.1\n",
            "sphinxcontrib-qthelp               2.0.0\n",
            "sphinxcontrib-serializinghtml      2.0.0\n",
            "SQLAlchemy                         2.0.36\n",
            "sqlglot                            25.1.0\n",
            "sqlparse                           0.5.2\n",
            "srsly                              2.4.8\n",
            "stanio                             0.5.1\n",
            "statsmodels                        0.14.4\n",
            "StrEnum                            0.4.15\n",
            "stringzilla                        3.11.0\n",
            "sympy                              1.13.1\n",
            "tables                             3.10.1\n",
            "tabulate                           0.9.0\n",
            "tbb                                2022.0.0\n",
            "tcmlib                             1.2.0\n",
            "tenacity                           9.0.0\n",
            "tensorboard                        2.17.1\n",
            "tensorboard-data-server            0.7.2\n",
            "tensorflow                         2.17.1\n",
            "tensorflow-datasets                4.9.7\n",
            "tensorflow-hub                     0.16.1\n",
            "tensorflow-io-gcs-filesystem       0.37.1\n",
            "tensorflow-metadata                1.13.1\n",
            "tensorflow-probability             0.24.0\n",
            "tensorstore                        0.1.69\n",
            "termcolor                          2.5.0\n",
            "terminado                          0.18.1\n",
            "text-unidecode                     1.3\n",
            "textblob                           0.17.1\n",
            "tf_keras                           2.17.0\n",
            "tf-slim                            1.1.0\n",
            "thinc                              8.2.5\n",
            "threadpoolctl                      3.5.0\n",
            "tifffile                           2024.9.20\n",
            "timm                               1.0.12\n",
            "tinycss2                           1.4.0\n",
            "tokenizers                         0.20.3\n",
            "toml                               0.10.2\n",
            "tomli                              2.2.1\n",
            "toolz                              0.12.1\n",
            "torch                              2.5.1+cu121\n",
            "torchaudio                         2.5.1+cu121\n",
            "torchsummary                       1.5.1\n",
            "torchvision                        0.20.1+cu121\n",
            "tornado                            6.3.3\n",
            "tqdm                               4.66.6\n",
            "traitlets                          5.7.1\n",
            "traittypes                         0.2.1\n",
            "transformers                       4.46.3\n",
            "tweepy                             4.14.0\n",
            "typeguard                          4.4.1\n",
            "typer                              0.15.0\n",
            "types-pytz                         2024.2.0.20241003\n",
            "types-setuptools                   75.6.0.20241126\n",
            "typing_extensions                  4.12.2\n",
            "tzdata                             2024.2\n",
            "tzlocal                            5.2\n",
            "uc-micro-py                        1.0.3\n",
            "umf                                0.9.1\n",
            "uritemplate                        4.1.1\n",
            "urllib3                            2.2.3\n",
            "vega-datasets                      0.9.0\n",
            "wadllib                            1.3.6\n",
            "wandb                              0.18.7\n",
            "wasabi                             1.1.3\n",
            "wcwidth                            0.2.13\n",
            "weasel                             0.4.1\n",
            "webcolors                          24.11.1\n",
            "webencodings                       0.5.1\n",
            "websocket-client                   1.8.0\n",
            "Werkzeug                           3.1.3\n",
            "wheel                              0.45.1\n",
            "widgetsnbextension                 3.6.10\n",
            "wordcloud                          1.9.4\n",
            "wrapt                              1.17.0\n",
            "xarray                             2024.10.0\n",
            "xarray-einstats                    0.8.0\n",
            "xgboost                            2.1.3\n",
            "xlrd                               2.0.1\n",
            "xyzservices                        2024.9.0\n",
            "yarl                               1.18.3\n",
            "yellowbrick                        1.5\n",
            "yfinance                           0.2.50\n",
            "zipp                               3.21.0\n"
          ]
        }
      ]
    },
    {
      "cell_type": "code",
      "source": [
        "! pip install pyjokes"
      ],
      "metadata": {
        "colab": {
          "base_uri": "https://localhost:8080/"
        },
        "id": "Sr-s6Quz6Ba_",
        "outputId": "592a9bf1-c95f-438b-a373-50f8ab875c71"
      },
      "execution_count": null,
      "outputs": [
        {
          "output_type": "stream",
          "name": "stdout",
          "text": [
            "Collecting pyjokes\n",
            "  Downloading pyjokes-0.8.3-py3-none-any.whl.metadata (3.4 kB)\n",
            "Downloading pyjokes-0.8.3-py3-none-any.whl (47 kB)\n",
            "\u001b[?25l   \u001b[90m━━━━━━━━━━━━━━━━━━━━━━━━━━━━━━━━━━━━━━━━\u001b[0m \u001b[32m0.0/47.6 kB\u001b[0m \u001b[31m?\u001b[0m eta \u001b[36m-:--:--\u001b[0m\r\u001b[2K   \u001b[90m━━━━━━━━━━━━━━━━━━━━━━━━━━━━━━━━━━━━━━━━\u001b[0m \u001b[32m47.6/47.6 kB\u001b[0m \u001b[31m1.8 MB/s\u001b[0m eta \u001b[36m0:00:00\u001b[0m\n",
            "\u001b[?25hInstalling collected packages: pyjokes\n",
            "Successfully installed pyjokes-0.8.3\n"
          ]
        }
      ]
    },
    {
      "cell_type": "code",
      "source": [
        "import pyjokes"
      ],
      "metadata": {
        "id": "nWbJCo5F6KT6"
      },
      "execution_count": null,
      "outputs": []
    },
    {
      "cell_type": "code",
      "source": [],
      "metadata": {
        "id": "ghcXMfRj5sGC"
      },
      "execution_count": null,
      "outputs": []
    },
    {
      "cell_type": "markdown",
      "source": [
        "classes\n"
      ],
      "metadata": {
        "id": "s87p74s45tB2"
      }
    }
  ]
}