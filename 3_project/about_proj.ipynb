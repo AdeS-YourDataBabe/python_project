{
 "cells": [
  {
   "cell_type": "markdown",
   "metadata": {},
   "source": [
    "## Exploratory Data Analysis & Intro\n",
    "# Goal\n",
    " * Investigate top-paying roles and skills in the data science industry.\n",
    "* Use Python to explore a real-live dataset on job postings.\n",
    "* For job-seekers: use these insights to help find the best job opportunities.\n",
    "## Final Deliverables:\n",
    "* Create Jupyter Notebookss (showcasing core skills in Python).\n",
    "* Create a summary page (via README.md) capturing your findings.\n",
    "* Share this project via GitHub.\n",
    "## Questions to Answer\n",
    "* What are the most demanded skills for the top 3 most popular data roles?\n",
    "* How are in-demand skills trending for Data Analysts?\n",
    "* How well do jobs and skills pay for Data Analysts?\n",
    "* What is the most optimal skill to learn for Data Analysts? (High Demand AND High Paying)"
   ]
  }
 ],
 "metadata": {
  "kernelspec": {
   "display_name": "python_project",
   "language": "python",
   "name": "python3"
  },
  "language_info": {
   "codemirror_mode": {
    "name": "ipython",
    "version": 3
   },
   "file_extension": ".py",
   "mimetype": "text/x-python",
   "name": "python",
   "nbconvert_exporter": "python",
   "pygments_lexer": "ipython3",
   "version": "3.11.11"
  }
 },
 "nbformat": 4,
 "nbformat_minor": 2
}
